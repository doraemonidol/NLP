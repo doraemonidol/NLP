{
 "cells": [
  {
   "cell_type": "code",
   "execution_count": 1,
   "metadata": {},
   "outputs": [
    {
     "data": {
      "application/vnd.jupyter.widget-view+json": {
       "model_id": "becd9c8d632c4d5b9c75fa7a01254fe4",
       "version_major": 2,
       "version_minor": 0
      },
      "text/plain": [
       "tokenizer_config.json:   0%|          | 0.00/2.29k [00:00<?, ?B/s]"
      ]
     },
     "metadata": {},
     "output_type": "display_data"
    },
    {
     "data": {
      "application/vnd.jupyter.widget-view+json": {
       "model_id": "1006e29eade44dcbb9866e9337bf2e16",
       "version_major": 2,
       "version_minor": 0
      },
      "text/plain": [
       "spiece.model:   0%|          | 0.00/820k [00:00<?, ?B/s]"
      ]
     },
     "metadata": {},
     "output_type": "display_data"
    },
    {
     "data": {
      "application/vnd.jupyter.widget-view+json": {
       "model_id": "79c656d265e843ea8f9b3a7ea1728a35",
       "version_major": 2,
       "version_minor": 0
      },
      "text/plain": [
       "special_tokens_map.json:   0%|          | 0.00/2.12k [00:00<?, ?B/s]"
      ]
     },
     "metadata": {},
     "output_type": "display_data"
    },
    {
     "name": "stderr",
     "output_type": "stream",
     "text": [
      "You are using the default legacy behaviour of the <class 'transformers.models.t5.tokenization_t5.T5Tokenizer'>. This is expected, and simply means that the `legacy` (previous) behavior will be used so nothing changes for you. If you want to use the new behaviour, set `legacy=False`. This should only be set if you understand what it means, and thoroughly read the reason why this was added as explained in https://github.com/huggingface/transformers/pull/24565\n"
     ]
    },
    {
     "data": {
      "application/vnd.jupyter.widget-view+json": {
       "model_id": "6e5266be2338427cb59eadf6dd5664e5",
       "version_major": 2,
       "version_minor": 0
      },
      "text/plain": [
       "config.json:   0%|          | 0.00/823 [00:00<?, ?B/s]"
      ]
     },
     "metadata": {},
     "output_type": "display_data"
    },
    {
     "data": {
      "application/vnd.jupyter.widget-view+json": {
       "model_id": "6783d4ca08504bde82c36ad06447e945",
       "version_major": 2,
       "version_minor": 0
      },
      "text/plain": [
       "pytorch_model.bin:   0%|          | 0.00/1.01G [00:00<?, ?B/s]"
      ]
     },
     "metadata": {},
     "output_type": "display_data"
    },
    {
     "data": {
      "application/vnd.jupyter.widget-view+json": {
       "model_id": "e11ade4045dd4bac8344567f95dd3b2d",
       "version_major": 2,
       "version_minor": 0
      },
      "text/plain": [
       "generation_config.json:   0%|          | 0.00/112 [00:00<?, ?B/s]"
      ]
     },
     "metadata": {},
     "output_type": "display_data"
    },
    {
     "name": "stdout",
     "output_type": "stream",
     "text": [
      "Input: Thật tự hào khi là sinh viên trường Đại học Công nghệ\n",
      "Output: Là sinh viên Đại học Công nghệ, tôi rất tự hào về điều đó.\n",
      "----------------------------------------------------------------------------------------------------\n",
      "Input: Cách kiếm nhiều tiền ?\n",
      "Output: Một số cách để kiếm được nhiều tiền là gì?\n",
      "----------------------------------------------------------------------------------------------------\n",
      "Input: Những nguyên lí cơ bản của vật lý ?\n",
      "Output: Các nguyên tắc cơ bản của vật lý là gì?\n",
      "----------------------------------------------------------------------------------------------------\n",
      "Input: Làm thế nào để học ngôn ngữ Java\n",
      "Output: Các bước để thành thạo ngôn ngữ Java là gì?\n",
      "----------------------------------------------------------------------------------------------------\n",
      "Input: Ngoài ra, nắng nóng còn có thể gây tình trạng mất nước, kiệt sức, đột qụy do sốc nhiệt đối với cơ thể người khi tiếp xúc lâu với nền nhiệt độ cao.\n",
      "Output: Hơn nữa, nắng nóng có thể dẫn đến mất nước, kiệt sức, đột quỵ do sốc nhiệt đối với cơ thể người khi tiếp xúc lâu với nền nhiệt độ cao.\n",
      "----------------------------------------------------------------------------------------------------\n"
     ]
    }
   ],
   "source": [
    "CKPT = 'chieunq/vietnamese-sentence-paraphase'\n",
    "from transformers import MT5Tokenizer, MT5ForConditionalGeneration\n",
    "tokenizer = MT5Tokenizer.from_pretrained(CKPT)\n",
    "model = MT5ForConditionalGeneration.from_pretrained(CKPT)\n",
    "def paraphase(text):\n",
    "    inputs = tokenizer(text, padding='longest', max_length=64, return_tensors='pt')\n",
    "    input_ids = inputs.input_ids\n",
    "    attention_mask = inputs.attention_mask\n",
    "    output = model.generate(input_ids, attention_mask=attention_mask, max_length=64)\n",
    "    return tokenizer.decode(output[0], skip_special_tokens=True)\n",
    "\n",
    "texts = [\n",
    "        \"Thật tự hào khi là sinh viên trường Đại học Công nghệ\",\n",
    "        \"Cách kiếm nhiều tiền ?\",\n",
    "        \"Những nguyên lí cơ bản của vật lý ?\",\n",
    "        \"Làm thế nào để học ngôn ngữ Java\",\n",
    "        \"Ngoài ra, nắng nóng còn có thể gây tình trạng mất nước, kiệt sức, đột qụy do sốc nhiệt đối với cơ thể người khi tiếp xúc lâu với nền nhiệt độ cao.\"\n",
    "        ]\n",
    "for text in texts:\n",
    "    print(f'Input: {text}')\n",
    "    print(f'Output: {paraphase(text)}')\n",
    "    print('-'*100)\n"
   ]
  }
 ],
 "metadata": {
  "kernelspec": {
   "display_name": "Python 3",
   "language": "python",
   "name": "python3"
  },
  "language_info": {
   "codemirror_mode": {
    "name": "ipython",
    "version": 3
   },
   "file_extension": ".py",
   "mimetype": "text/x-python",
   "name": "python",
   "nbconvert_exporter": "python",
   "pygments_lexer": "ipython3",
   "version": "3.9.12"
  }
 },
 "nbformat": 4,
 "nbformat_minor": 2
}
