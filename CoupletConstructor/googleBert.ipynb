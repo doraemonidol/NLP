{
 "cells": [
  {
   "cell_type": "code",
   "execution_count": 1,
   "metadata": {},
   "outputs": [
    {
     "name": "stdout",
     "output_type": "stream",
     "text": [
      "Original Couplet: Trên trời cao ngàn sao sáng, dưới đất con người yên vui.\n",
      "Best Paraphrase: Bầu trời lấp lánh sao đêm, con người dưới đất an vui.\n",
      "Similarity Score: 0.9070854783058167\n"
     ]
    }
   ],
   "source": [
    "from transformers import AutoTokenizer, AutoModel\n",
    "import torch\n",
    "from sklearn.metrics.pairwise import cosine_similarity\n",
    "\n",
    "# Load the BERT tokenizer and model\n",
    "model_name = \"bert-base-multilingual-cased\"\n",
    "tokenizer = AutoTokenizer.from_pretrained(model_name)\n",
    "model = AutoModel.from_pretrained(model_name)\n",
    "\n",
    "def get_sentence_embedding(sentence):\n",
    "    # Tokenize the sentence and get the input IDs\n",
    "    inputs = tokenizer(sentence, return_tensors=\"pt\", truncation=True, padding=True)\n",
    "    \n",
    "    # Get the BERT embeddings (output)\n",
    "    with torch.no_grad():\n",
    "        outputs = model(**inputs)\n",
    "    \n",
    "    # The embeddings are in the last hidden state (batch_size, sequence_length, hidden_size)\n",
    "    # We take the mean of the token embeddings (except [CLS] and [SEP])\n",
    "    embeddings = outputs.last_hidden_state.mean(dim=1)\n",
    "    \n",
    "    return embeddings.squeeze().numpy()\n",
    "\n",
    "def find_most_similar_sentence(input_sentence, paraphrase_candidates):\n",
    "    # Get embedding for the input sentence\n",
    "    input_embedding = get_sentence_embedding(input_sentence)\n",
    "    \n",
    "    # Get embeddings for all paraphrase candidates\n",
    "    candidate_embeddings = [get_sentence_embedding(candidate) for candidate in paraphrase_candidates]\n",
    "    \n",
    "    # Compute cosine similarities between input sentence and paraphrase candidates\n",
    "    similarities = [cosine_similarity([input_embedding], [candidate_embedding])[0][0] \n",
    "                    for candidate_embedding in candidate_embeddings]\n",
    "    \n",
    "    # Find the most similar sentence\n",
    "    most_similar_index = similarities.index(max(similarities))\n",
    "    \n",
    "    return paraphrase_candidates[most_similar_index], similarities[most_similar_index]\n",
    "\n",
    "# Example Vietnamese interpreted couplet\n",
    "interpreted_couplet = \"Trên trời cao ngàn sao sáng, dưới đất con người yên vui.\"\n",
    "\n",
    "# Example list of paraphrase candidates\n",
    "paraphrase_candidates = [\n",
    "    \"Bầu trời lấp lánh sao đêm, con người dưới đất an vui.\",\n",
    "    \"Trên cao sao sáng rực rỡ, con người dưới đất hòa bình.\",\n",
    "    \"Trời đầy sao sáng lấp lánh, con người dưới trần hạnh phúc.\",\n",
    "    \"Sao trời chiếu sáng rực rỡ, nhân gian sống vui vẻ bình yên.\",\n",
    "    \"Ngàn sao sáng soi đường, dưới trần thế nhân hòa an lạc.\"\n",
    "]\n",
    "\n",
    "# Find the most similar paraphrase\n",
    "paraphrase, similarity = find_most_similar_sentence(interpreted_couplet, paraphrase_candidates)\n",
    "\n",
    "print(f\"Original Couplet: {interpreted_couplet}\")\n",
    "print(f\"Best Paraphrase: {paraphrase}\")\n",
    "print(f\"Similarity Score: {similarity}\")\n"
   ]
  }
 ],
 "metadata": {
  "kernelspec": {
   "display_name": "Python 3",
   "language": "python",
   "name": "python3"
  },
  "language_info": {
   "codemirror_mode": {
    "name": "ipython",
    "version": 3
   },
   "file_extension": ".py",
   "mimetype": "text/x-python",
   "name": "python",
   "nbconvert_exporter": "python",
   "pygments_lexer": "ipython3",
   "version": "3.9.12"
  }
 },
 "nbformat": 4,
 "nbformat_minor": 2
}
