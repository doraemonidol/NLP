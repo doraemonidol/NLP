{
 "cells": [
  {
   "cell_type": "code",
   "execution_count": 18,
   "metadata": {},
   "outputs": [],
   "source": [
    "result = []"
   ]
  },
  {
   "cell_type": "code",
   "execution_count": null,
   "metadata": {},
   "outputs": [],
   "source": [
    "# Build dataset for training and testing\n",
    "path = r'G:\\Other computers\\My_Computer\\Main_Syllabus\\NLP\\Data\\ThangLong\\thanglong-GOLD.xlsx'\n",
    "import pandas as pd\n",
    "\n",
    "df = pd.read_excel(path)\n",
    "for i in range(len(df)):\n",
    "    text = df[2][i].split('\\n')\n",
    "    text[0] = text[0].strip()\n",
    "    # if text[0][-1] is punctuation, remove it\n",
    "    if text[0][-1] in ['.', ',', '?', '!', ';']:\n",
    "        text[0] = text[0][:-1]\n",
    "    text = '; '.join(text)\n",
    "    result.append(text)"
   ]
  },
  {
   "cell_type": "code",
   "execution_count": 24,
   "metadata": {},
   "outputs": [],
   "source": [
    "# Build dataset for training and testing\n",
    "result = []\n",
    "path = r'G:\\Other computers\\My_Computer\\Main_Syllabus\\NLP\\Data\\5000\\Clean\\punctuated_final_reversed_2.xlsx'\n",
    "import pandas as pd\n",
    "\n",
    "df = pd.read_excel(path)\n",
    "for i in range(len(df)):\n",
    "    text = df['dich nghia'][i].split('\\n')\n",
    "    text[0] = text[0].strip()\n",
    "    # if text[0][-1] is punctuation, remove it\n",
    "    if text[0][-1] in ['.', ',', '?', '!', ';']:\n",
    "        text[0] = text[0][:-1]\n",
    "    text = '; '.join(text)\n",
    "    result.append(text)"
   ]
  },
  {
   "cell_type": "code",
   "execution_count": 25,
   "metadata": {},
   "outputs": [
    {
     "name": "stdout",
     "output_type": "stream",
     "text": [
      "4643\n"
     ]
    }
   ],
   "source": [
    "print(len(result))"
   ]
  },
  {
   "cell_type": "code",
   "execution_count": 26,
   "metadata": {},
   "outputs": [],
   "source": [
    "from copy import deepcopy\n",
    "\n",
    "\n",
    "fivek = deepcopy(result)"
   ]
  },
  {
   "cell_type": "code",
   "execution_count": 21,
   "metadata": {},
   "outputs": [],
   "source": [
    "thanglong = deepcopy(result)"
   ]
  },
  {
   "cell_type": "code",
   "execution_count": 27,
   "metadata": {},
   "outputs": [
    {
     "name": "stdout",
     "output_type": "stream",
     "text": [
      "5360\n"
     ]
    }
   ],
   "source": [
    "combined = fivek + thanglong\n",
    "print(len(combined))"
   ]
  },
  {
   "cell_type": "code",
   "execution_count": 28,
   "metadata": {},
   "outputs": [],
   "source": [
    "# split into train and test\n",
    "from sklearn.model_selection import train_test_split\n",
    "\n",
    "train, test = train_test_split(combined, test_size=0.2, random_state=42)\n",
    "\n",
    "with open('train.txt', 'w', encoding='utf-8') as f:\n",
    "    for item in train:\n",
    "        f.write(\"%s\\n\" % item)\n",
    "\n",
    "with open('test.txt', 'w', encoding='utf-8') as f:\n",
    "    for item in test:\n",
    "        f.write(\"%s\\n\" % item)"
   ]
  }
 ],
 "metadata": {
  "kernelspec": {
   "display_name": "Python 3",
   "language": "python",
   "name": "python3"
  },
  "language_info": {
   "codemirror_mode": {
    "name": "ipython",
    "version": 3
   },
   "file_extension": ".py",
   "mimetype": "text/x-python",
   "name": "python",
   "nbconvert_exporter": "python",
   "pygments_lexer": "ipython3",
   "version": "3.9.12"
  }
 },
 "nbformat": 4,
 "nbformat_minor": 2
}
