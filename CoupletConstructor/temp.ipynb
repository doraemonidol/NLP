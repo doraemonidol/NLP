{
 "cells": [
  {
   "cell_type": "code",
   "execution_count": 2,
   "metadata": {},
   "outputs": [
    {
     "name": "stdout",
     "output_type": "stream",
     "text": [
      "Requirement already satisfied: textgen in c:\\users\\nhat hung\\appdata\\local\\programs\\orange\\lib\\site-packages (1.1.1)\n",
      "Requirement already satisfied: loguru in c:\\users\\nhat hung\\appdata\\local\\programs\\orange\\lib\\site-packages (from textgen) (0.7.2)\n",
      "Requirement already satisfied: jieba>=0.39 in c:\\users\\nhat hung\\appdata\\local\\programs\\orange\\lib\\site-packages (from textgen) (0.42.1)\n",
      "Requirement already satisfied: transformers in c:\\users\\nhat hung\\appdata\\local\\programs\\orange\\lib\\site-packages (from textgen) (4.4.0)\n",
      "Requirement already satisfied: datasets in c:\\users\\nhat hung\\appdata\\local\\programs\\orange\\lib\\site-packages (from textgen) (3.0.1)\n",
      "Requirement already satisfied: gensim>=4.0.0 in c:\\users\\nhat hung\\appdata\\local\\programs\\orange\\lib\\site-packages (from textgen) (4.3.3)\n",
      "Requirement already satisfied: text2vec in c:\\users\\nhat hung\\appdata\\local\\programs\\orange\\lib\\site-packages (from textgen) (1.3.0)\n",
      "Requirement already satisfied: tensorboard in c:\\users\\nhat hung\\appdata\\local\\programs\\orange\\lib\\site-packages (from textgen) (2.17.1)\n",
      "Requirement already satisfied: tqdm in c:\\users\\nhat hung\\appdata\\local\\programs\\orange\\lib\\site-packages (from textgen) (4.66.4)\n",
      "Requirement already satisfied: pandas in c:\\users\\nhat hung\\appdata\\local\\programs\\orange\\lib\\site-packages (from textgen) (1.5.3)\n",
      "Requirement already satisfied: wandb>=0.10.32 in c:\\users\\nhat hung\\appdata\\local\\programs\\orange\\lib\\site-packages (from textgen) (0.18.3)\n",
      "Requirement already satisfied: sacremoses in c:\\users\\nhat hung\\appdata\\local\\programs\\orange\\lib\\site-packages (from textgen) (0.1.1)\n",
      "Requirement already satisfied: Rouge in c:\\users\\nhat hung\\appdata\\local\\programs\\orange\\lib\\site-packages (from textgen) (1.0.1)\n",
      "Requirement already satisfied: cpm-kernels in c:\\users\\nhat hung\\appdata\\local\\programs\\orange\\lib\\site-packages (from textgen) (1.0.11)\n",
      "Requirement already satisfied: peft>=0.3.0 in c:\\users\\nhat hung\\appdata\\local\\programs\\orange\\lib\\site-packages (from textgen) (0.13.2)\n",
      "Requirement already satisfied: numpy<2.0,>=1.18.5 in c:\\users\\nhat hung\\appdata\\local\\programs\\orange\\lib\\site-packages (from gensim>=4.0.0->textgen) (1.24.4)\n",
      "Requirement already satisfied: scipy<1.14.0,>=1.7.0 in c:\\users\\nhat hung\\appdata\\local\\programs\\orange\\lib\\site-packages (from gensim>=4.0.0->textgen) (1.10.1)\n",
      "Requirement already satisfied: smart-open>=1.8.1 in c:\\users\\nhat hung\\appdata\\local\\programs\\orange\\lib\\site-packages (from gensim>=4.0.0->textgen) (7.0.5)\n",
      "Requirement already satisfied: packaging>=20.0 in c:\\users\\nhat hung\\appdata\\local\\programs\\orange\\lib\\site-packages (from peft>=0.3.0->textgen) (23.2)\n",
      "Requirement already satisfied: psutil in c:\\users\\nhat hung\\appdata\\local\\programs\\orange\\lib\\site-packages (from peft>=0.3.0->textgen) (5.9.5)\n",
      "Requirement already satisfied: pyyaml in c:\\users\\nhat hung\\appdata\\local\\programs\\orange\\lib\\site-packages (from peft>=0.3.0->textgen) (6.0.1)\n",
      "Requirement already satisfied: torch>=1.13.0 in c:\\users\\nhat hung\\appdata\\local\\programs\\orange\\lib\\site-packages (from peft>=0.3.0->textgen) (2.4.0+cu121)\n",
      "Requirement already satisfied: accelerate>=0.21.0 in c:\\users\\nhat hung\\appdata\\local\\programs\\orange\\lib\\site-packages (from peft>=0.3.0->textgen) (1.0.1)\n",
      "Requirement already satisfied: safetensors in c:\\users\\nhat hung\\appdata\\local\\programs\\orange\\lib\\site-packages (from peft>=0.3.0->textgen) (0.4.3)\n",
      "Requirement already satisfied: huggingface-hub>=0.17.0 in c:\\users\\nhat hung\\appdata\\local\\programs\\orange\\lib\\site-packages (from peft>=0.3.0->textgen) (0.23.4)\n",
      "Requirement already satisfied: click!=8.0.0,>=7.1 in c:\\users\\nhat hung\\appdata\\local\\programs\\orange\\lib\\site-packages (from wandb>=0.10.32->textgen) (8.1.7)\n",
      "Requirement already satisfied: docker-pycreds>=0.4.0 in c:\\users\\nhat hung\\appdata\\local\\programs\\orange\\lib\\site-packages (from wandb>=0.10.32->textgen) (0.4.0)\n",
      "Requirement already satisfied: gitpython!=3.1.29,>=1.0.0 in c:\\users\\nhat hung\\appdata\\local\\programs\\orange\\lib\\site-packages (from wandb>=0.10.32->textgen) (3.1.43)\n",
      "Requirement already satisfied: platformdirs in c:\\users\\nhat hung\\appdata\\local\\programs\\orange\\lib\\site-packages (from wandb>=0.10.32->textgen) (4.1.0)\n",
      "Requirement already satisfied: protobuf!=4.21.0,!=5.28.0,<6,>=3.19.0 in c:\\users\\nhat hung\\appdata\\local\\programs\\orange\\lib\\site-packages (from wandb>=0.10.32->textgen) (4.25.4)\n",
      "Requirement already satisfied: requests<3,>=2.0.0 in c:\\users\\nhat hung\\appdata\\local\\programs\\orange\\lib\\site-packages (from wandb>=0.10.32->textgen) (2.32.3)\n",
      "Requirement already satisfied: sentry-sdk>=1.0.0 in c:\\users\\nhat hung\\appdata\\local\\programs\\orange\\lib\\site-packages (from wandb>=0.10.32->textgen) (2.16.0)\n",
      "Requirement already satisfied: setproctitle in c:\\users\\nhat hung\\appdata\\local\\programs\\orange\\lib\\site-packages (from wandb>=0.10.32->textgen) (1.3.3)\n",
      "Requirement already satisfied: setuptools in c:\\users\\nhat hung\\appdata\\local\\programs\\orange\\lib\\site-packages (from wandb>=0.10.32->textgen) (68.2.2)\n",
      "Requirement already satisfied: typing-extensions in c:\\users\\nhat hung\\appdata\\local\\programs\\orange\\lib\\site-packages (from wandb>=0.10.32->textgen) (4.12.2)\n",
      "Requirement already satisfied: filelock in c:\\users\\nhat hung\\appdata\\local\\programs\\orange\\lib\\site-packages (from datasets->textgen) (3.15.4)\n",
      "Requirement already satisfied: pyarrow>=15.0.0 in c:\\users\\nhat hung\\appdata\\local\\programs\\orange\\lib\\site-packages (from datasets->textgen) (17.0.0)\n",
      "Requirement already satisfied: dill<0.3.9,>=0.3.0 in c:\\users\\nhat hung\\appdata\\local\\programs\\orange\\lib\\site-packages (from datasets->textgen) (0.3.8)\n",
      "Requirement already satisfied: xxhash in c:\\users\\nhat hung\\appdata\\local\\programs\\orange\\lib\\site-packages (from datasets->textgen) (3.5.0)\n",
      "Requirement already satisfied: multiprocess in c:\\users\\nhat hung\\appdata\\local\\programs\\orange\\lib\\site-packages (from datasets->textgen) (0.70.16)\n",
      "Requirement already satisfied: fsspec<=2024.6.1,>=2023.1.0 in c:\\users\\nhat hung\\appdata\\local\\programs\\orange\\lib\\site-packages (from fsspec[http]<=2024.6.1,>=2023.1.0->datasets->textgen) (2024.6.1)\n",
      "Requirement already satisfied: aiohttp in c:\\users\\nhat hung\\appdata\\local\\programs\\orange\\lib\\site-packages (from datasets->textgen) (3.10.4)\n",
      "Requirement already satisfied: colorama in c:\\users\\nhat hung\\appdata\\local\\programs\\orange\\lib\\site-packages (from tqdm->textgen) (0.4.6)\n",
      "Requirement already satisfied: win32-setctime>=1.0.0 in c:\\users\\nhat hung\\appdata\\local\\programs\\orange\\lib\\site-packages (from loguru->textgen) (1.1.0)\n",
      "Requirement already satisfied: python-dateutil>=2.8.1 in c:\\users\\nhat hung\\appdata\\local\\programs\\orange\\lib\\site-packages (from pandas->textgen) (2.8.2)\n",
      "Requirement already satisfied: pytz>=2020.1 in c:\\users\\nhat hung\\appdata\\local\\programs\\orange\\lib\\site-packages (from pandas->textgen) (2023.3.post1)\n",
      "Requirement already satisfied: six in c:\\users\\nhat hung\\appdata\\local\\programs\\orange\\lib\\site-packages (from Rouge->textgen) (1.16.0)\n",
      "Requirement already satisfied: regex in c:\\users\\nhat hung\\appdata\\local\\programs\\orange\\lib\\site-packages (from sacremoses->textgen) (2024.5.15)\n",
      "Requirement already satisfied: joblib in c:\\users\\nhat hung\\appdata\\local\\programs\\orange\\lib\\site-packages (from sacremoses->textgen) (1.3.2)\n",
      "Requirement already satisfied: absl-py>=0.4 in c:\\users\\nhat hung\\appdata\\local\\programs\\orange\\lib\\site-packages (from tensorboard->textgen) (2.1.0)\n",
      "Requirement already satisfied: grpcio>=1.48.2 in c:\\users\\nhat hung\\appdata\\local\\programs\\orange\\lib\\site-packages (from tensorboard->textgen) (1.65.4)\n",
      "Requirement already satisfied: markdown>=2.6.8 in c:\\users\\nhat hung\\appdata\\local\\programs\\orange\\lib\\site-packages (from tensorboard->textgen) (3.7)\n",
      "Requirement already satisfied: tensorboard-data-server<0.8.0,>=0.7.0 in c:\\users\\nhat hung\\appdata\\local\\programs\\orange\\lib\\site-packages (from tensorboard->textgen) (0.7.2)\n",
      "Requirement already satisfied: werkzeug>=1.0.1 in c:\\users\\nhat hung\\appdata\\local\\programs\\orange\\lib\\site-packages (from tensorboard->textgen) (3.0.3)\n",
      "Requirement already satisfied: scikit-learn in c:\\users\\nhat hung\\appdata\\local\\programs\\orange\\lib\\site-packages (from text2vec->textgen) (1.1.3)\n",
      "Requirement already satisfied: tokenizers<0.11,>=0.10.1 in c:\\users\\nhat hung\\appdata\\local\\programs\\orange\\lib\\site-packages (from transformers->textgen) (0.10.3)\n",
      "Requirement already satisfied: aiohappyeyeballs>=2.3.0 in c:\\users\\nhat hung\\appdata\\local\\programs\\orange\\lib\\site-packages (from aiohttp->datasets->textgen) (2.3.7)\n",
      "Requirement already satisfied: aiosignal>=1.1.2 in c:\\users\\nhat hung\\appdata\\local\\programs\\orange\\lib\\site-packages (from aiohttp->datasets->textgen) (1.3.1)\n",
      "Requirement already satisfied: attrs>=17.3.0 in c:\\users\\nhat hung\\appdata\\local\\programs\\orange\\lib\\site-packages (from aiohttp->datasets->textgen) (23.2.0)\n",
      "Requirement already satisfied: frozenlist>=1.1.1 in c:\\users\\nhat hung\\appdata\\local\\programs\\orange\\lib\\site-packages (from aiohttp->datasets->textgen) (1.4.1)\n",
      "Requirement already satisfied: multidict<7.0,>=4.5 in c:\\users\\nhat hung\\appdata\\local\\programs\\orange\\lib\\site-packages (from aiohttp->datasets->textgen) (6.0.5)\n",
      "Requirement already satisfied: yarl<2.0,>=1.0 in c:\\users\\nhat hung\\appdata\\local\\programs\\orange\\lib\\site-packages (from aiohttp->datasets->textgen) (1.9.4)\n",
      "Requirement already satisfied: async-timeout<5.0,>=4.0 in c:\\users\\nhat hung\\appdata\\local\\programs\\orange\\lib\\site-packages (from aiohttp->datasets->textgen) (4.0.3)\n",
      "Requirement already satisfied: gitdb<5,>=4.0.1 in c:\\users\\nhat hung\\appdata\\local\\programs\\orange\\lib\\site-packages (from gitpython!=3.1.29,>=1.0.0->wandb>=0.10.32->textgen) (4.0.11)\n",
      "Requirement already satisfied: importlib-metadata>=4.4 in c:\\users\\nhat hung\\appdata\\local\\programs\\orange\\lib\\site-packages (from markdown>=2.6.8->tensorboard->textgen) (7.0.0)\n",
      "Requirement already satisfied: charset-normalizer<4,>=2 in c:\\users\\nhat hung\\appdata\\local\\programs\\orange\\lib\\site-packages (from requests<3,>=2.0.0->wandb>=0.10.32->textgen) (3.3.2)\n",
      "Requirement already satisfied: idna<4,>=2.5 in c:\\users\\nhat hung\\appdata\\local\\programs\\orange\\lib\\site-packages (from requests<3,>=2.0.0->wandb>=0.10.32->textgen) (2.10)\n",
      "Requirement already satisfied: urllib3<3,>=1.21.1 in c:\\users\\nhat hung\\appdata\\local\\programs\\orange\\lib\\site-packages (from requests<3,>=2.0.0->wandb>=0.10.32->textgen) (1.26.18)\n",
      "Requirement already satisfied: certifi>=2017.4.17 in c:\\users\\nhat hung\\appdata\\local\\programs\\orange\\lib\\site-packages (from requests<3,>=2.0.0->wandb>=0.10.32->textgen) (2024.2.2)\n",
      "Requirement already satisfied: wrapt in c:\\users\\nhat hung\\appdata\\local\\programs\\orange\\lib\\site-packages (from smart-open>=1.8.1->gensim>=4.0.0->textgen) (1.16.0)\n",
      "Requirement already satisfied: sympy in c:\\users\\nhat hung\\appdata\\local\\programs\\orange\\lib\\site-packages (from torch>=1.13.0->peft>=0.3.0->textgen) (1.13.2)\n",
      "Requirement already satisfied: networkx in c:\\users\\nhat hung\\appdata\\local\\programs\\orange\\lib\\site-packages (from torch>=1.13.0->peft>=0.3.0->textgen) (3.2.1)\n",
      "Requirement already satisfied: jinja2 in c:\\users\\nhat hung\\appdata\\local\\programs\\orange\\lib\\site-packages (from torch>=1.13.0->peft>=0.3.0->textgen) (3.1.4)\n",
      "Requirement already satisfied: MarkupSafe>=2.1.1 in c:\\users\\nhat hung\\appdata\\local\\programs\\orange\\lib\\site-packages (from werkzeug>=1.0.1->tensorboard->textgen) (2.1.5)\n",
      "Requirement already satisfied: threadpoolctl>=2.0.0 in c:\\users\\nhat hung\\appdata\\local\\programs\\orange\\lib\\site-packages (from scikit-learn->text2vec->textgen) (3.2.0)\n",
      "Requirement already satisfied: smmap<6,>=3.0.1 in c:\\users\\nhat hung\\appdata\\local\\programs\\orange\\lib\\site-packages (from gitdb<5,>=4.0.1->gitpython!=3.1.29,>=1.0.0->wandb>=0.10.32->textgen) (5.0.1)\n",
      "Requirement already satisfied: zipp>=0.5 in c:\\users\\nhat hung\\appdata\\local\\programs\\orange\\lib\\site-packages (from importlib-metadata>=4.4->markdown>=2.6.8->tensorboard->textgen) (3.17.0)\n",
      "Requirement already satisfied: mpmath<1.4,>=1.1.0 in c:\\users\\nhat hung\\appdata\\local\\programs\\orange\\lib\\site-packages (from sympy->torch>=1.13.0->peft>=0.3.0->textgen) (1.3.0)\n",
      "Note: you may need to restart the kernel to use updated packages.\n"
     ]
    },
    {
     "name": "stderr",
     "output_type": "stream",
     "text": [
      "WARNING: Ignoring invalid distribution -ransformers (c:\\users\\nhat hung\\appdata\\local\\programs\\orange\\lib\\site-packages)\n",
      "WARNING: Ignoring invalid distribution -ransformers (c:\\users\\nhat hung\\appdata\\local\\programs\\orange\\lib\\site-packages)\n"
     ]
    },
    {
     "name": "stdout",
     "output_type": "stream",
     "text": [
      "Collecting transformers==4.40.2\n",
      "  Downloading transformers-4.40.2-py3-none-any.whl.metadata (137 kB)\n",
      "     ---------------------------------------- 0.0/138.0 kB ? eta -:--:--\n",
      "     ----- ------------------------------- 20.5/138.0 kB 330.3 kB/s eta 0:00:01\n",
      "     ------------- ----------------------- 51.2/138.0 kB 525.1 kB/s eta 0:00:01\n",
      "     ---------------------------------- - 133.1/138.0 kB 983.0 kB/s eta 0:00:01\n",
      "     ------------------------------------ 138.0/138.0 kB 912.4 kB/s eta 0:00:00\n",
      "Requirement already satisfied: filelock in c:\\users\\nhat hung\\appdata\\local\\programs\\orange\\lib\\site-packages (from transformers==4.40.2) (3.15.4)\n",
      "Requirement already satisfied: huggingface-hub<1.0,>=0.19.3 in c:\\users\\nhat hung\\appdata\\local\\programs\\orange\\lib\\site-packages (from transformers==4.40.2) (0.23.4)\n",
      "Requirement already satisfied: numpy>=1.17 in c:\\users\\nhat hung\\appdata\\local\\programs\\orange\\lib\\site-packages (from transformers==4.40.2) (1.24.4)\n",
      "Requirement already satisfied: packaging>=20.0 in c:\\users\\nhat hung\\appdata\\local\\programs\\orange\\lib\\site-packages (from transformers==4.40.2) (23.2)\n",
      "Requirement already satisfied: pyyaml>=5.1 in c:\\users\\nhat hung\\appdata\\local\\programs\\orange\\lib\\site-packages (from transformers==4.40.2) (6.0.1)\n",
      "Requirement already satisfied: regex!=2019.12.17 in c:\\users\\nhat hung\\appdata\\local\\programs\\orange\\lib\\site-packages (from transformers==4.40.2) (2024.5.15)\n",
      "Requirement already satisfied: requests in c:\\users\\nhat hung\\appdata\\local\\programs\\orange\\lib\\site-packages (from transformers==4.40.2) (2.32.3)\n",
      "Collecting tokenizers<0.20,>=0.19 (from transformers==4.40.2)\n",
      "  Using cached tokenizers-0.19.1-cp39-none-win_amd64.whl.metadata (6.9 kB)\n",
      "Requirement already satisfied: safetensors>=0.4.1 in c:\\users\\nhat hung\\appdata\\local\\programs\\orange\\lib\\site-packages (from transformers==4.40.2) (0.4.3)\n",
      "Requirement already satisfied: tqdm>=4.27 in c:\\users\\nhat hung\\appdata\\local\\programs\\orange\\lib\\site-packages (from transformers==4.40.2) (4.66.4)\n",
      "Requirement already satisfied: fsspec>=2023.5.0 in c:\\users\\nhat hung\\appdata\\local\\programs\\orange\\lib\\site-packages (from huggingface-hub<1.0,>=0.19.3->transformers==4.40.2) (2024.6.1)\n",
      "Requirement already satisfied: typing-extensions>=3.7.4.3 in c:\\users\\nhat hung\\appdata\\local\\programs\\orange\\lib\\site-packages (from huggingface-hub<1.0,>=0.19.3->transformers==4.40.2) (4.12.2)\n",
      "Requirement already satisfied: colorama in c:\\users\\nhat hung\\appdata\\local\\programs\\orange\\lib\\site-packages (from tqdm>=4.27->transformers==4.40.2) (0.4.6)\n",
      "Requirement already satisfied: charset-normalizer<4,>=2 in c:\\users\\nhat hung\\appdata\\local\\programs\\orange\\lib\\site-packages (from requests->transformers==4.40.2) (3.3.2)\n",
      "Requirement already satisfied: idna<4,>=2.5 in c:\\users\\nhat hung\\appdata\\local\\programs\\orange\\lib\\site-packages (from requests->transformers==4.40.2) (2.10)\n",
      "Requirement already satisfied: urllib3<3,>=1.21.1 in c:\\users\\nhat hung\\appdata\\local\\programs\\orange\\lib\\site-packages (from requests->transformers==4.40.2) (1.26.18)\n",
      "Requirement already satisfied: certifi>=2017.4.17 in c:\\users\\nhat hung\\appdata\\local\\programs\\orange\\lib\\site-packages (from requests->transformers==4.40.2) (2024.2.2)\n",
      "Downloading transformers-4.40.2-py3-none-any.whl (9.0 MB)\n",
      "   ---------------------------------------- 0.0/9.0 MB ? eta -:--:--\n",
      "    --------------------------------------- 0.2/9.0 MB 9.6 MB/s eta 0:00:01\n",
      "   - -------------------------------------- 0.4/9.0 MB 4.7 MB/s eta 0:00:02\n",
      "   -- ------------------------------------- 0.5/9.0 MB 3.9 MB/s eta 0:00:03\n",
      "   -- ------------------------------------- 0.6/9.0 MB 3.6 MB/s eta 0:00:03\n",
      "   --- ------------------------------------ 0.8/9.0 MB 3.7 MB/s eta 0:00:03\n",
      "   ---- ----------------------------------- 1.1/9.0 MB 4.1 MB/s eta 0:00:02\n",
      "   ------ --------------------------------- 1.4/9.0 MB 4.3 MB/s eta 0:00:02\n",
      "   ------- -------------------------------- 1.6/9.0 MB 4.5 MB/s eta 0:00:02\n",
      "   -------- ------------------------------- 1.9/9.0 MB 4.7 MB/s eta 0:00:02\n",
      "   --------- ------------------------------ 2.2/9.0 MB 4.8 MB/s eta 0:00:02\n",
      "   ----------- ---------------------------- 2.5/9.0 MB 5.0 MB/s eta 0:00:02\n",
      "   ------------ --------------------------- 2.9/9.0 MB 5.2 MB/s eta 0:00:02\n",
      "   -------------- ------------------------- 3.2/9.0 MB 5.4 MB/s eta 0:00:02\n",
      "   ---------------- ----------------------- 3.6/9.0 MB 5.6 MB/s eta 0:00:01\n",
      "   ----------------- ---------------------- 4.0/9.0 MB 5.9 MB/s eta 0:00:01\n",
      "   ------------------- -------------------- 4.4/9.0 MB 6.0 MB/s eta 0:00:01\n",
      "   --------------------- ------------------ 4.9/9.0 MB 6.3 MB/s eta 0:00:01\n",
      "   ----------------------- ---------------- 5.4/9.0 MB 6.5 MB/s eta 0:00:01\n",
      "   -------------------------- ------------- 5.9/9.0 MB 6.7 MB/s eta 0:00:01\n",
      "   ---------------------------- ----------- 6.3/9.0 MB 7.0 MB/s eta 0:00:01\n",
      "   ------------------------------ --------- 6.9/9.0 MB 7.2 MB/s eta 0:00:01\n",
      "   -------------------------------- ------- 7.4/9.0 MB 7.4 MB/s eta 0:00:01\n",
      "   ----------------------------------- ---- 7.9/9.0 MB 7.6 MB/s eta 0:00:01\n",
      "   ------------------------------------- -- 8.5/9.0 MB 7.8 MB/s eta 0:00:01\n",
      "   ---------------------------------------  9.0/9.0 MB 7.9 MB/s eta 0:00:01\n",
      "   ---------------------------------------- 9.0/9.0 MB 7.7 MB/s eta 0:00:00\n",
      "Using cached tokenizers-0.19.1-cp39-none-win_amd64.whl (2.2 MB)\n",
      "Installing collected packages: tokenizers, transformers\n",
      "  Attempting uninstall: tokenizers\n",
      "    Found existing installation: tokenizers 0.10.3\n",
      "    Uninstalling tokenizers-0.10.3:\n",
      "      Successfully uninstalled tokenizers-0.10.3\n",
      "  Attempting uninstall: transformers\n",
      "    Found existing installation: transformers 4.4.0\n",
      "    Uninstalling transformers-4.4.0:\n",
      "      Successfully uninstalled transformers-4.4.0\n",
      "Successfully installed tokenizers-0.19.1 transformers-4.40.2\n",
      "Note: you may need to restart the kernel to use updated packages.\n"
     ]
    },
    {
     "name": "stderr",
     "output_type": "stream",
     "text": [
      "WARNING: Ignoring invalid distribution -ransformers (c:\\users\\nhat hung\\appdata\\local\\programs\\orange\\lib\\site-packages)\n",
      "WARNING: Ignoring invalid distribution -ransformers (c:\\users\\nhat hung\\appdata\\local\\programs\\orange\\lib\\site-packages)\n"
     ]
    }
   ],
   "source": [
    "%pip install -U textgen\n",
    "%pip install transformers==4.40.2"
   ]
  },
  {
   "cell_type": "code",
   "execution_count": 1,
   "metadata": {},
   "outputs": [
    {
     "name": "stderr",
     "output_type": "stream",
     "text": [
      "c:\\Users\\Nhat Hung\\AppData\\Local\\Programs\\Orange\\lib\\site-packages\\transformers\\deepspeed.py:23: FutureWarning: transformers.deepspeed module is deprecated and will be removed in a future version. Please import deepspeed modules directly from transformers.integrations\n",
      "  warnings.warn(\n",
      "\u001b[32m2024-10-13 18:37:23.459\u001b[0m | \u001b[34m\u001b[1mDEBUG   \u001b[0m | \u001b[36mtextgen.language_modeling.songnet_model\u001b[0m:\u001b[36m__init__\u001b[0m:\u001b[36m643\u001b[0m - \u001b[34m\u001b[1mDevice: cuda\u001b[0m\n",
      "c:\\Users\\Nhat Hung\\AppData\\Local\\Programs\\Orange\\lib\\site-packages\\huggingface_hub\\file_download.py:671: FutureWarning: 'cached_download' is the legacy way to download files from the HF hub, please consider upgrading to 'hf_hub_download'\n",
      "  warnings.warn(\n"
     ]
    },
    {
     "data": {
      "application/vnd.jupyter.widget-view+json": {
       "model_id": "dbc9b39416e3431bb87b91fdff049ee4",
       "version_major": 2,
       "version_minor": 0
      },
      "text/plain": [
       ".gitattributes:   0%|          | 0.00/1.48k [00:00<?, ?B/s]"
      ]
     },
     "metadata": {},
     "output_type": "display_data"
    },
    {
     "data": {
      "application/vnd.jupyter.widget-view+json": {
       "model_id": "ef79d53777d54bc083d46f0040f5b640",
       "version_major": 2,
       "version_minor": 0
      },
      "text/plain": [
       "README.md:   0%|          | 0.00/4.05k [00:00<?, ?B/s]"
      ]
     },
     "metadata": {},
     "output_type": "display_data"
    },
    {
     "data": {
      "application/vnd.jupyter.widget-view+json": {
       "model_id": "c9b70c6fab11420eb7f21773609d4641",
       "version_major": 2,
       "version_minor": 0
      },
      "text/plain": [
       "pytorch_model.bin:   0%|          | 0.00/636M [00:00<?, ?B/s]"
      ]
     },
     "metadata": {},
     "output_type": "display_data"
    },
    {
     "data": {
      "application/vnd.jupyter.widget-view+json": {
       "model_id": "f9cb1e2414464ffe9f29ba58a9c9d8b1",
       "version_major": 2,
       "version_minor": 0
      },
      "text/plain": [
       "songnet-network.png:   0%|          | 0.00/155k [00:00<?, ?B/s]"
      ]
     },
     "metadata": {},
     "output_type": "display_data"
    },
    {
     "data": {
      "application/vnd.jupyter.widget-view+json": {
       "model_id": "5f031834e72443a8863d3db986a97f3f",
       "version_major": 2,
       "version_minor": 0
      },
      "text/plain": [
       "vocab.txt:   0%|          | 0.00/110k [00:00<?, ?B/s]"
      ]
     },
     "metadata": {},
     "output_type": "display_data"
    },
    {
     "name": "stderr",
     "output_type": "stream",
     "text": [
      "\u001b[32m2024-10-13 18:40:20.951\u001b[0m | \u001b[1mINFO    \u001b[0m | \u001b[36mtextgen.language_modeling.songnet_model\u001b[0m:\u001b[36m__init__\u001b[0m:\u001b[36m674\u001b[0m - \u001b[1mLoad pretrained SongNet model: shibing624/songnet-base-chinese-couplet, local model path: C:\\Users\\Nhat Hung/.cache\\torch\\textgen\\shibing624_songnet-base-chinese-couplet\u001b[0m\n",
      "c:\\Users\\Nhat Hung\\AppData\\Local\\Programs\\Orange\\lib\\site-packages\\textgen\\language_modeling\\songnet_model.py:687: FutureWarning: You are using `torch.load` with `weights_only=False` (the current default value), which uses the default pickle module implicitly. It is possible to construct malicious pickle data which will execute arbitrary code during unpickling (See https://github.com/pytorch/pytorch/blob/main/SECURITY.md#untrusted-models for more details). In a future release, the default value for `weights_only` will be flipped to `True`. This limits the functions that could be executed during unpickling. Arbitrary objects will no longer be allowed to be loaded via this mode unless they are explicitly allowlisted by the user via `torch.serialization.add_safe_globals`. We recommend you start setting `weights_only=True` for any use case where you don't have full control of the loaded file. Please open an issue on GitHub for any issues related to this experimental feature.\n",
      "  self.model.load_state_dict(torch.load(bin_path, map_location=self.device))\n"
     ]
    },
    {
     "name": "stdout",
     "output_type": "stream",
     "text": [
      "inputs: ['严蕊<s1>如梦令<s2>道是梨花不是。</s>道是杏花不是。</s>白白与红红，别是东风情味。</s>曾记。</s>曾记。</s>人在武陵微醉。', '<s1><s2>一句相思吟岁月</s>千杯美酒醉风情', '<s1><s2>几树梅花数竿竹</s>一潭秋水半屏山<s1><s2>未舍东江开口咏</s>且施妙手点睛来', '<s1><s2>一去二三里</s>烟村四五家']\n"
     ]
    },
    {
     "data": {
      "application/vnd.jupyter.widget-view+json": {
       "model_id": "43fa2cdc261e4e9aa89fc3a4191c907c",
       "version_major": 2,
       "version_minor": 0
      },
      "text/plain": [
       "Generating outputs:   0%|          | 0/4 [00:00<?, ?it/s]"
      ]
     },
     "metadata": {},
     "output_type": "display_data"
    },
    {
     "name": "stdout",
     "output_type": "stream",
     "text": [
      "outputs: ['<bos>金鸡又唱千家乐</s>紫燕再裁万物春</s>春风一路歌，绿柳同唱百业歌</s>双福歌</s>九州歌</s>丹江又唱三角歌</s>', '<bos>月落空阶愁不见</s>风临小院乐无穷</s>', '<bos>春风得意摆柳宴</s>细雨随春好梦多情催桃符</s>', '<bos>风清春水静</s>柳醉绿茶香</s>']\n",
      "inputs: ['<s1><s2>一句____月</s>千杯美酒__情', '<s1><s2>一去二三里</s>烟村__家</s>亭台__座</s>八__枝花']\n"
     ]
    },
    {
     "data": {
      "application/vnd.jupyter.widget-view+json": {
       "model_id": "ce11dc7dd15d42729f9a60baccbff16a",
       "version_major": 2,
       "version_minor": 0
      },
      "text/plain": [
       "Generating outputs:   0%|          | 0/2 [00:00<?, ?it/s]"
      ]
     },
     "metadata": {},
     "output_type": "display_data"
    },
    {
     "name": "stdout",
     "output_type": "stream",
     "text": [
      "outputs: ['<bos>一句箴言明理月</s>千杯美酒亮高情</s>', '<bos>一去二三里</s>烟村千里家</s>亭台万世座</s>八家百枝花</s>']\n"
     ]
    }
   ],
   "source": [
    "import sys\n",
    "\n",
    "sys.path.append('..')\n",
    "from textgen.language_modeling import SongNetModel\n",
    "\n",
    "\n",
    "model = SongNetModel(model_type='songnet', model_name='shibing624/songnet-base-chinese-couplet')\n"
   ]
  },
  {
   "cell_type": "code",
   "execution_count": 10,
   "metadata": {},
   "outputs": [
    {
     "name": "stdout",
     "output_type": "stream",
     "text": [
      "inputs: ['<s1><s2>_花吐艷春風暖</s>萬象更新國運昌</s>']\n"
     ]
    },
    {
     "data": {
      "application/vnd.jupyter.widget-view+json": {
       "model_id": "8f00098816ff4640b1324ebc062197f6",
       "version_major": 2,
       "version_minor": 0
      },
      "text/plain": [
       "Generating outputs:   0%|          | 0/1 [00:00<?, ?it/s]"
      ]
     },
     "metadata": {},
     "output_type": "display_data"
    },
    {
     "name": "stdout",
     "output_type": "stream",
     "text": [
      "outputs: <bos>春花吐艷春風暖\n",
      "萬象更新國運昌\n",
      "inputs: ['<s1><s2>百_吐艷春風暖</s>萬象更新國運昌</s>']\n"
     ]
    },
    {
     "data": {
      "application/vnd.jupyter.widget-view+json": {
       "model_id": "2938f463ec4245bcad735a45a196b99d",
       "version_major": 2,
       "version_minor": 0
      },
      "text/plain": [
       "Generating outputs:   0%|          | 0/1 [00:00<?, ?it/s]"
      ]
     },
     "metadata": {},
     "output_type": "display_data"
    },
    {
     "name": "stdout",
     "output_type": "stream",
     "text": [
      "outputs: <bos>百味吐艷春風暖\n",
      "萬象更新國運昌\n",
      "inputs: ['<s1><s2>百花_艷春風暖</s>萬象更新國運昌</s>']\n"
     ]
    },
    {
     "data": {
      "application/vnd.jupyter.widget-view+json": {
       "model_id": "de7d74a3f1fb4dc7be60d81adc630f75",
       "version_major": 2,
       "version_minor": 0
      },
      "text/plain": [
       "Generating outputs:   0%|          | 0/1 [00:00<?, ?it/s]"
      ]
     },
     "metadata": {},
     "output_type": "display_data"
    },
    {
     "name": "stdout",
     "output_type": "stream",
     "text": [
      "outputs: <bos>百花红艷春風暖\n",
      "萬象更新國運昌\n",
      "inputs: ['<s1><s2>百花吐_春風暖</s>萬象更新國運昌</s>']\n"
     ]
    },
    {
     "data": {
      "application/vnd.jupyter.widget-view+json": {
       "model_id": "4d9006b2a6ea47c0a553e769c3226583",
       "version_major": 2,
       "version_minor": 0
      },
      "text/plain": [
       "Generating outputs:   0%|          | 0/1 [00:00<?, ?it/s]"
      ]
     },
     "metadata": {},
     "output_type": "display_data"
    },
    {
     "name": "stdout",
     "output_type": "stream",
     "text": [
      "outputs: <bos>百花吐香春風暖\n",
      "萬象更新國運昌\n",
      "inputs: ['<s1><s2>百花吐艷_風暖</s>萬象更新國運昌</s>']\n"
     ]
    },
    {
     "data": {
      "application/vnd.jupyter.widget-view+json": {
       "model_id": "f6ccd11e074743c1a9a928673f7c8412",
       "version_major": 2,
       "version_minor": 0
      },
      "text/plain": [
       "Generating outputs:   0%|          | 0/1 [00:00<?, ?it/s]"
      ]
     },
     "metadata": {},
     "output_type": "display_data"
    },
    {
     "name": "stdout",
     "output_type": "stream",
     "text": [
      "outputs: <bos>百花吐艷春風暖\n",
      "萬象更新國運昌\n",
      "inputs: ['<s1><s2>百花吐艷春_暖</s>萬象更新國運昌</s>']\n"
     ]
    },
    {
     "data": {
      "application/vnd.jupyter.widget-view+json": {
       "model_id": "145cd3de1f134a6cb86e110fa282c78c",
       "version_major": 2,
       "version_minor": 0
      },
      "text/plain": [
       "Generating outputs:   0%|          | 0/1 [00:00<?, ?it/s]"
      ]
     },
     "metadata": {},
     "output_type": "display_data"
    },
    {
     "name": "stdout",
     "output_type": "stream",
     "text": [
      "outputs: <bos>百花吐艷春色暖\n",
      "萬象更新國運昌\n",
      "inputs: ['<s1><s2>百花吐艷春風_</s>萬象更新國運昌</s>']\n"
     ]
    },
    {
     "data": {
      "application/vnd.jupyter.widget-view+json": {
       "model_id": "8e82ff4f71874e30856baff842878d15",
       "version_major": 2,
       "version_minor": 0
      },
      "text/plain": [
       "Generating outputs:   0%|          | 0/1 [00:00<?, ?it/s]"
      ]
     },
     "metadata": {},
     "output_type": "display_data"
    },
    {
     "name": "stdout",
     "output_type": "stream",
     "text": [
      "outputs: <bos>百花吐艷春風景\n",
      "萬象更新國運昌\n",
      "inputs: ['<s1><s2>百花吐艷春風暖</s>_象更新國運昌</s>']\n"
     ]
    },
    {
     "data": {
      "application/vnd.jupyter.widget-view+json": {
       "model_id": "d4634e8759fa4fa5b11e6ef1716e14f5",
       "version_major": 2,
       "version_minor": 0
      },
      "text/plain": [
       "Generating outputs:   0%|          | 0/1 [00:00<?, ?it/s]"
      ]
     },
     "metadata": {},
     "output_type": "display_data"
    },
    {
     "name": "stdout",
     "output_type": "stream",
     "text": [
      "outputs: <bos>百花吐艷春風暖\n",
      "金象更新國運昌\n",
      "inputs: ['<s1><s2>百花吐艷春風暖</s>萬_更新國運昌</s>']\n"
     ]
    },
    {
     "data": {
      "application/vnd.jupyter.widget-view+json": {
       "model_id": "337d00322498454e85715b1068629721",
       "version_major": 2,
       "version_minor": 0
      },
      "text/plain": [
       "Generating outputs:   0%|          | 0/1 [00:00<?, ?it/s]"
      ]
     },
     "metadata": {},
     "output_type": "display_data"
    },
    {
     "name": "stdout",
     "output_type": "stream",
     "text": [
      "outputs: <bos>百花吐艷春風暖\n",
      "萬民更新國運昌\n",
      "inputs: ['<s1><s2>百花吐艷春風暖</s>萬象_新國運昌</s>']\n"
     ]
    },
    {
     "data": {
      "application/vnd.jupyter.widget-view+json": {
       "model_id": "14d4bbff923e4d80a4d17050048e80d1",
       "version_major": 2,
       "version_minor": 0
      },
      "text/plain": [
       "Generating outputs:   0%|          | 0/1 [00:00<?, ?it/s]"
      ]
     },
     "metadata": {},
     "output_type": "display_data"
    },
    {
     "name": "stdout",
     "output_type": "stream",
     "text": [
      "outputs: <bos>百花吐艷春風暖\n",
      "萬象承新國運昌\n",
      "inputs: ['<s1><s2>百花吐艷春風暖</s>萬象更_國運昌</s>']\n"
     ]
    },
    {
     "data": {
      "application/vnd.jupyter.widget-view+json": {
       "model_id": "d2f74b4ec58a4e5c89f912effff39a7e",
       "version_major": 2,
       "version_minor": 0
      },
      "text/plain": [
       "Generating outputs:   0%|          | 0/1 [00:00<?, ?it/s]"
      ]
     },
     "metadata": {},
     "output_type": "display_data"
    },
    {
     "name": "stdout",
     "output_type": "stream",
     "text": [
      "outputs: <bos>百花吐艷春風暖\n",
      "萬象更新國運昌\n",
      "inputs: ['<s1><s2>百花吐艷春風暖</s>萬象更新_運昌</s>']\n"
     ]
    },
    {
     "data": {
      "application/vnd.jupyter.widget-view+json": {
       "model_id": "7cc2df55c1f8452e8069de0d93f582b8",
       "version_major": 2,
       "version_minor": 0
      },
      "text/plain": [
       "Generating outputs:   0%|          | 0/1 [00:00<?, ?it/s]"
      ]
     },
     "metadata": {},
     "output_type": "display_data"
    },
    {
     "name": "stdout",
     "output_type": "stream",
     "text": [
      "outputs: <bos>百花吐艷春風暖\n",
      "萬象更新新運昌\n",
      "inputs: ['<s1><s2>百花吐艷春風暖</s>萬象更新國_昌</s>']\n"
     ]
    },
    {
     "data": {
      "application/vnd.jupyter.widget-view+json": {
       "model_id": "e36677c497ad4d6f94df73090a3fff2a",
       "version_major": 2,
       "version_minor": 0
      },
      "text/plain": [
       "Generating outputs:   0%|          | 0/1 [00:00<?, ?it/s]"
      ]
     },
     "metadata": {},
     "output_type": "display_data"
    },
    {
     "name": "stdout",
     "output_type": "stream",
     "text": [
      "outputs: <bos>百花吐艷春風暖\n",
      "萬象更新國风昌\n",
      "inputs: ['<s1><s2>百花吐艷春風暖</s>萬象更新國運_</s>']\n"
     ]
    },
    {
     "data": {
      "application/vnd.jupyter.widget-view+json": {
       "model_id": "9d5efeb9242444a9bb62ce41f5450513",
       "version_major": 2,
       "version_minor": 0
      },
      "text/plain": [
       "Generating outputs:   0%|          | 0/1 [00:00<?, ?it/s]"
      ]
     },
     "metadata": {},
     "output_type": "display_data"
    },
    {
     "name": "stdout",
     "output_type": "stream",
     "text": [
      "outputs: <bos>百花吐艷春風暖\n",
      "萬象更新國運孚\n"
     ]
    }
   ],
   "source": [
    "# 百花吐艷春風暖\n",
    "# 萬象更新國運昌\n",
    "original_sentence = '''百花吐艷春風暖\n",
    "萬象更新國運昌\n",
    "'''\n",
    "\n",
    "\n",
    "\n",
    "sentences = []\n",
    "\n",
    "for i in range(0, len(original_sentence)):\n",
    "    if original_sentence[i] == '\\n':\n",
    "        continue\n",
    "    sentence = original_sentence[:i] + '_' + original_sentence[i+1:]\n",
    "    sentence = \"<s1><s2>\" + '</s>'.join(sentence.split('\\n'))\n",
    "    sentences = [sentence]\n",
    "    print(\"inputs:\", sentences)\n",
    "    output = model.fill_mask(sentences)\n",
    "    output = '\\n'.join(output[0].split('</s>')[:2])\n",
    "    print(\"outputs:\", output)\n",
    "\n"
   ]
  }
 ],
 "metadata": {
  "kernelspec": {
   "display_name": "Python 3",
   "language": "python",
   "name": "python3"
  },
  "language_info": {
   "codemirror_mode": {
    "name": "ipython",
    "version": 3
   },
   "file_extension": ".py",
   "mimetype": "text/x-python",
   "name": "python",
   "nbconvert_exporter": "python",
   "pygments_lexer": "ipython3",
   "version": "3.9.12"
  }
 },
 "nbformat": 4,
 "nbformat_minor": 2
}
